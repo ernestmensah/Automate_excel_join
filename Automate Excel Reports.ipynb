{
 "cells": [
  {
   "cell_type": "code",
   "execution_count": null,
   "metadata": {},
   "outputs": [],
   "source": [
    "import pandas as pd\n",
    "import numpy as np\n",
    "import matplotlib.pyplot as plt"
   ]
  },
  {
   "cell_type": "code",
   "execution_count": null,
   "metadata": {},
   "outputs": [],
   "source": [
    "balance_file_1 = 'C:/Users/ernest.mensah/Desktop/Esign/February/PRN Balance Amount - Non_Texas Programs.xlsx'\n",
    "balance_file_2 = 'C:/Users/ernest.mensah/Desktop/Esign/February/PRN Balance Amount - Texas.xlsx'\n"
   ]
  },
  {
   "cell_type": "code",
   "execution_count": null,
   "metadata": {},
   "outputs": [],
   "source": [
    "#df_bal_1 = pd.read_excel('C:/Users/ernest.mensah/Desktop/Esign/January/PRN Balance Amount - Texas.xlsx', sheet_name ='Page1_1')"
   ]
  },
  {
   "cell_type": "code",
   "execution_count": null,
   "metadata": {},
   "outputs": [],
   "source": [
    "#df_bal_1.head()"
   ]
  },
  {
   "cell_type": "code",
   "execution_count": null,
   "metadata": {},
   "outputs": [],
   "source": [
    "df_balance_1 = pd.read_excel(balance_file_1, sheet_name='Page1_1')\n",
    "df_balance_2 = pd.read_excel(balance_file_1, sheet_name='Page1_2')\n",
    "df_balance_3 = pd.read_excel(balance_file_2, sheet_name='Page1_1')\n",
    "df_balance_4 = pd.read_excel(balance_file_2, sheet_name='Page1_2')\n",
    "#df_balance_5 = pd.read_excel(balance_file_1, sheet_name='Page1_5')\n",
    "#df_balance_6 = pd.read_excel(balance_file_1, sheet_name='Page1_6')\n",
    "#df_balance_7 = pd.read_excel(balance_file_1, sheet_name='Page1_7')\n",
    "\n",
    "print (df_balance_1)\n",
    "print (df_balance_1['Program Name'])"
   ]
  },
  {
   "cell_type": "code",
   "execution_count": null,
   "metadata": {},
   "outputs": [],
   "source": [
    "df_balance_1.head()"
   ]
  },
  {
   "cell_type": "code",
   "execution_count": null,
   "metadata": {},
   "outputs": [],
   "source": [
    "df_prn_balance = pd.concat([df_balance_1,df_balance_2,df_balance_3,df_balance_4])\n",
    "print(df_prn_balance)"
   ]
  },
  {
   "cell_type": "code",
   "execution_count": null,
   "metadata": {},
   "outputs": [],
   "source": [
    "pivot = df_prn_balance.groupby(['Program Name']).count()\n",
    "program_count = pivot.loc[:,\"Pmt Ref #\":\"Is Active Custom\"]\n",
    "print(program_count)"
   ]
  },
  {
   "cell_type": "code",
   "execution_count": null,
   "metadata": {},
   "outputs": [],
   "source": [
    "df_prn_balance.to_excel(r'C:/Users/ernest.mensah/Desktop/Esign/February/PRN Balance Amount.xlsx', sheet_name='Summary')"
   ]
  },
  {
   "cell_type": "code",
   "execution_count": null,
   "metadata": {},
   "outputs": [],
   "source": [
    "#pip install openpyxl"
   ]
  },
  {
   "cell_type": "code",
   "execution_count": null,
   "metadata": {},
   "outputs": [],
   "source": [
    "import openpyxl"
   ]
  },
  {
   "cell_type": "code",
   "execution_count": null,
   "metadata": {},
   "outputs": [],
   "source": [
    "python -m pip install --upgrade pip"
   ]
  },
  {
   "cell_type": "code",
   "execution_count": null,
   "metadata": {},
   "outputs": [],
   "source": [
    "print(program_count)"
   ]
  },
  {
   "cell_type": "code",
   "execution_count": null,
   "metadata": {},
   "outputs": [],
   "source": [
    "program_count.plot(kind='bar')\n",
    "plt.show()"
   ]
  }
 ],
 "metadata": {
  "kernelspec": {
   "display_name": "Python 3",
   "language": "python",
   "name": "python3"
  },
  "language_info": {
   "codemirror_mode": {
    "name": "ipython",
    "version": 3
   },
   "file_extension": ".py",
   "mimetype": "text/x-python",
   "name": "python",
   "nbconvert_exporter": "python",
   "pygments_lexer": "ipython3",
   "version": "3.6.3"
  }
 },
 "nbformat": 4,
 "nbformat_minor": 2
}
